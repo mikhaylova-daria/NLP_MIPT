{
 "cells": [
  {
   "cell_type": "code",
   "execution_count": 1,
   "metadata": {
    "collapsed": true
   },
   "outputs": [],
   "source": [
    "#пункт 1-3\n",
    "text_file = open('SMSSpamCollection.txt')\n",
    "raw_corpus = []\n",
    "for i, line in enumerate(text_file):\n",
    "    raw_corpus.append([line.split()[0].strip(), line.split('\\t', 1 )[1].strip()])"
   ]
  },
  {
   "cell_type": "code",
   "execution_count": 2,
   "metadata": {
    "collapsed": false
   },
   "outputs": [],
   "source": [
    "from sklearn.feature_extraction.text import CountVectorizer\n",
    "from sklearn.model_selection import cross_val_score\n",
    "from sklearn import linear_model\n",
    "from sklearn import naive_bayes\n",
    "import numpy as np"
   ]
  },
  {
   "cell_type": "code",
   "execution_count": 3,
   "metadata": {
    "collapsed": false
   },
   "outputs": [],
   "source": [
    "#пункты 3-4\n",
    "vectorizer = CountVectorizer()\n",
    "X = vectorizer.fit_transform([raw_corpus[i][1] for i in range(len(raw_corpus))])\n",
    "Y = [raw_corpus[i][0]=='spam' for i in range(len(raw_corpus))]"
   ]
  },
  {
   "cell_type": "code",
   "execution_count": 16,
   "metadata": {
    "collapsed": false
   },
   "outputs": [
    {
     "name": "stdout",
     "output_type": "stream",
     "text": [
      "0.933348526858\n"
     ]
    }
   ],
   "source": [
    "#пункт 5\n",
    "clr = linear_model.LogisticRegression()\n",
    "scores = cross_val_score(clr, X, Y, cv=10, scoring='f1')\n",
    "print np.mean(scores)"
   ]
  },
  {
   "cell_type": "code",
   "execution_count": 23,
   "metadata": {
    "collapsed": false
   },
   "outputs": [
    {
     "name": "stdout",
     "output_type": "stream",
     "text": [
      "[1, 1, 0, 0, 0]\n"
     ]
    }
   ],
   "source": [
    "#пункт 6\n",
    "X_test = vectorizer.transform([\"FreeMsg: Txt: CALL to No: 86888 & claim your reward of 3 hours talk time to use from your phone now! Subscribe6GB\",\n",
    "\"FreeMsg: Txt: claim your reward of 3 hours talk time\",\n",
    "\"Have you visited the last lecture on physics?\",\n",
    "\"Have you visited the last lecture on physics? Just buy this book and you will have all materials! Only 99$\",\n",
    "\"Only 99$\"])\n",
    "\n",
    "cr.fit(X, Y)\n",
    "print [int(y) for y in cr.predict(X_test)]"
   ]
  },
  {
   "cell_type": "code",
   "execution_count": 34,
   "metadata": {
    "collapsed": true
   },
   "outputs": [],
   "source": [
    "vectorizers=[\n",
    "    CountVectorizer(ngram_range=(2,2)),\n",
    "    CountVectorizer(ngram_range=(3,3)),\n",
    "    CountVectorizer(ngram_range=(1,3))]"
   ]
  },
  {
   "cell_type": "code",
   "execution_count": 35,
   "metadata": {
    "collapsed": false
   },
   "outputs": [
    {
     "name": "stdout",
     "output_type": "stream",
     "text": [
      "0.82\n",
      "0.73\n",
      "0.93\n"
     ]
    }
   ],
   "source": [
    "#пункт 7: Лог. регрессия\n",
    "\n",
    "clr = linear_model.LogisticRegression()\n",
    "\n",
    "for vectorizer in vectorizers:\n",
    "    X = vectorizer.fit_transform([raw_corpus[i][1] for i in range(len(raw_corpus))])\n",
    "    scores = cross_val_score(clr, X, Y, cv=10, scoring='f1')\n",
    "    print round(np.mean(scores), 2)"
   ]
  },
  {
   "cell_type": "code",
   "execution_count": 45,
   "metadata": {
    "collapsed": false
   },
   "outputs": [
    {
     "name": "stdout",
     "output_type": "stream",
     "text": [
      "0.65\n",
      "0.38\n",
      "0.89\n"
     ]
    }
   ],
   "source": [
    "#пункт 8: наивный Байес\n",
    "\n",
    "c_mnb = naive_bayes.MultinomialNB()\n",
    "\n",
    "for vectorizer in vectorizers:\n",
    "    X = vectorizer.fit_transform([raw_corpus[i][1] for i in range(len(raw_corpus))])\n",
    "    scores = cross_val_score(c_mnb, X, Y, cv=10, scoring='f1')\n",
    "    print round(np.mean(scores), 2)"
   ]
  },
  {
   "cell_type": "code",
   "execution_count": 51,
   "metadata": {
    "collapsed": false
   },
   "outputs": [
    {
     "name": "stdout",
     "output_type": "stream",
     "text": [
      "0.852859955417\n"
     ]
    }
   ],
   "source": [
    "#пункт 9: Tf*idf в лог.регрессии\n",
    "\n",
    "from sklearn.feature_extraction.text import TfidfVectorizer\n",
    "vectorizer = TfidfVectorizer()\n",
    "\n",
    "X=vectorizer.fit_transform([raw_corpus[i][1] for i in range(len(raw_corpus))]) \n",
    "\n",
    "clr = linear_model.LogisticRegression()\n",
    "scores = cross_val_score(clr, X, Y, cv=10, scoring='f1')\n",
    "print np.mean(scores)"
   ]
  },
  {
   "cell_type": "markdown",
   "metadata": {},
   "source": [
    "Пункт 10: Лучший результат на cv: 0.9724, подробнее в './SMS_10.ipynb'"
   ]
  },
  {
   "cell_type": "code",
   "execution_count": null,
   "metadata": {
    "collapsed": true
   },
   "outputs": [],
   "source": []
  }
 ],
 "metadata": {
  "anaconda-cloud": {},
  "kernelspec": {
   "display_name": "Python [conda root]",
   "language": "python",
   "name": "conda-root-py"
  },
  "language_info": {
   "codemirror_mode": {
    "name": "ipython",
    "version": 2
   },
   "file_extension": ".py",
   "mimetype": "text/x-python",
   "name": "python",
   "nbconvert_exporter": "python",
   "pygments_lexer": "ipython2",
   "version": "2.7.12"
  }
 },
 "nbformat": 4,
 "nbformat_minor": 1
}
