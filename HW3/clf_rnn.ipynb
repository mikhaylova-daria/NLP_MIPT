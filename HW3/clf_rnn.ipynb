{
 "cells": [
  {
   "cell_type": "markdown",
   "metadata": {},
   "source": [
    "# Deep learning for Natural Language Processing\n",
    "\n",
    "\n",
    " * Simple text representations, bag of words\n",
    " * Word embedding and... not just another word2vec this time\n",
    " * rnn for text\n",
    " * Aggregating several data sources \"the hard way\"\n",
    " * Solving ~somewhat~ real ML problem with ~almost~ end-to-end deep learning\n",
    " \n",
    "\n",
    "Special thanks to Irina Golzmann for help with technical part, task prepared by Александр Панин, jheuristic@yandex-team.ru"
   ]
  },
  {
   "cell_type": "markdown",
   "metadata": {},
   "source": [
    "# NLTK\n",
    "\n",
    "You will require nltk v3.2 to solve this assignment\n",
    "\n",
    "__It is really important that the version is 3.2, otherwize russian tokenizer might not work__\n",
    "\n",
    "Install/update\n",
    "* `sudo pip install --upgrade nltk==3.2`\n",
    "* If you don't remember when was the last pip upgrade, `sudo pip install --upgrade pip`\n",
    "\n",
    "If for some reason you can't or won't switch to nltk v3.2, just make sure that russian words are tokenized properly with RegeExpTokenizer."
   ]
  },
  {
   "cell_type": "markdown",
   "metadata": {},
   "source": [
    "# For students with low-RAM machines\n",
    " * This assignment can be accomplished with even the low-tier hardware (<= 4Gb RAM) \n",
    " * If that is the case, turn flag \"low_RAM_mode\" below to True\n",
    " * If you have around 8GB memory, it is unlikely that you will feel constrained by memory.\n",
    " * In case you are using a PC from last millenia, consider setting very_low_RAM=True"
   ]
  },
  {
   "cell_type": "code",
   "execution_count": 1,
   "metadata": {
    "collapsed": true
   },
   "outputs": [],
   "source": [
    "low_RAM_mode = True\n",
    "very_low_RAM = False  #If you have <3GB RAM, set BOTH to true"
   ]
  },
  {
   "cell_type": "code",
   "execution_count": 2,
   "metadata": {
    "collapsed": false
   },
   "outputs": [],
   "source": [
    "import pandas as pd\n",
    "import numpy as np\n",
    "import matplotlib.pyplot as plt\n",
    "%matplotlib inline"
   ]
  },
  {
   "cell_type": "markdown",
   "metadata": {},
   "source": [
    "# Dataset\n",
    "\n",
    "Ex-kaggle-competition on prohibited content detection\n",
    "\n",
    "There goes the description - https://www.kaggle.com/c/avito-prohibited-content\n",
    "\n",
    "\n",
    "### Download\n",
    "High-RAM mode,\n",
    " * Download avito_train.tsv from competition data files\n",
    "Low-RAM-mode,\n",
    " * Download downsampled dataset from here\n",
    "     * archive https://yadi.sk/d/l0p4lameqw3W8\n",
    "     * raw https://yadi.sk/d/I1v7mZ6Sqw2WK (in case you feel masochistic)\n",
    " \n",
    "\n",
    "\n",
    "\n",
    "\n",
    "# What's inside\n",
    "Different kinds of features:\n",
    "* 2 text fields - title and description\n",
    "* Special features - price, number of e-mails, phones, etc\n",
    "* Category and subcategory - unsurprisingly, categorical features\n",
    "* Attributes - more factors\n",
    "\n",
    "Only 1 binary target whether or not such advertisement contains prohibited materials\n",
    "* criminal, misleading, human reproduction-related, etc\n",
    "* diving into the data may result in prolonged sleep disorders"
   ]
  },
  {
   "cell_type": "code",
   "execution_count": 3,
   "metadata": {
    "collapsed": false
   },
   "outputs": [],
   "source": [
    "if not low_RAM_mode:\n",
    "    # a lot of ram\n",
    "    df = pd.read_csv(\"avito_train.tsv\",sep='\\t')\n",
    "else:\n",
    "    #aroung 4GB ram\n",
    "    df = pd.read_csv(\"avito_train_1kk.tsv\",sep='\\t')\n",
    " "
   ]
  },
  {
   "cell_type": "code",
   "execution_count": 4,
   "metadata": {
    "collapsed": false
   },
   "outputs": [
    {
     "name": "stdout",
     "output_type": "stream",
     "text": [
      "(1204949, 13) 0.228222107326\n"
     ]
    },
    {
     "data": {
      "text/html": [
       "<div>\n",
       "<table border=\"1\" class=\"dataframe\">\n",
       "  <thead>\n",
       "    <tr style=\"text-align: right;\">\n",
       "      <th></th>\n",
       "      <th>itemid</th>\n",
       "      <th>category</th>\n",
       "      <th>subcategory</th>\n",
       "      <th>title</th>\n",
       "      <th>description</th>\n",
       "      <th>attrs</th>\n",
       "      <th>price</th>\n",
       "      <th>is_proved</th>\n",
       "      <th>is_blocked</th>\n",
       "      <th>phones_cnt</th>\n",
       "      <th>emails_cnt</th>\n",
       "      <th>urls_cnt</th>\n",
       "      <th>close_hours</th>\n",
       "    </tr>\n",
       "  </thead>\n",
       "  <tbody>\n",
       "    <tr>\n",
       "      <th>0</th>\n",
       "      <td>10000010</td>\n",
       "      <td>Транспорт</td>\n",
       "      <td>Автомобили с пробегом</td>\n",
       "      <td>Toyota Sera, 1991</td>\n",
       "      <td>Новая оригинальная линзованая оптика на ксенон...</td>\n",
       "      <td>{\"Год выпуска\":\"1991\", \"Тип кузова\":\"Купе\", \"П...</td>\n",
       "      <td>150000</td>\n",
       "      <td>NaN</td>\n",
       "      <td>0</td>\n",
       "      <td>0</td>\n",
       "      <td>0</td>\n",
       "      <td>0</td>\n",
       "      <td>0.03</td>\n",
       "    </tr>\n",
       "    <tr>\n",
       "      <th>1</th>\n",
       "      <td>10000094</td>\n",
       "      <td>Личные вещи</td>\n",
       "      <td>Одежда, обувь, аксессуары</td>\n",
       "      <td>Костюм Steilmann</td>\n",
       "      <td>Юбка и топ из панбархата. Под топ  трикотажная...</td>\n",
       "      <td>{\"Вид одежды\":\"Женская одежда\", \"Предмет одежд...</td>\n",
       "      <td>1500</td>\n",
       "      <td>NaN</td>\n",
       "      <td>0</td>\n",
       "      <td>0</td>\n",
       "      <td>0</td>\n",
       "      <td>0</td>\n",
       "      <td>0.41</td>\n",
       "    </tr>\n",
       "    <tr>\n",
       "      <th>2</th>\n",
       "      <td>10000299</td>\n",
       "      <td>Личные вещи</td>\n",
       "      <td>Детская одежда и обувь</td>\n",
       "      <td>Костюм Didriksons Boardman, размер 100, краги,...</td>\n",
       "      <td>Костюм Didriksons Boardman, в отличном состоян...</td>\n",
       "      <td>{\"Вид одежды\":\"Для мальчиков\", \"Предмет одежды...</td>\n",
       "      <td>3000</td>\n",
       "      <td>NaN</td>\n",
       "      <td>0</td>\n",
       "      <td>0</td>\n",
       "      <td>0</td>\n",
       "      <td>0</td>\n",
       "      <td>5.49</td>\n",
       "    </tr>\n",
       "    <tr>\n",
       "      <th>3</th>\n",
       "      <td>10000309</td>\n",
       "      <td>Недвижимость</td>\n",
       "      <td>Квартиры</td>\n",
       "      <td>1-к квартира, 44 м², 9/20 эт.</td>\n",
       "      <td>В кирпичном пан.-м доме, продается одноком.-ая...</td>\n",
       "      <td>{\"Тип объявления\":\"Продам\", \"Количество комнат...</td>\n",
       "      <td>2642020</td>\n",
       "      <td>NaN</td>\n",
       "      <td>0</td>\n",
       "      <td>1</td>\n",
       "      <td>0</td>\n",
       "      <td>0</td>\n",
       "      <td>22.47</td>\n",
       "    </tr>\n",
       "    <tr>\n",
       "      <th>4</th>\n",
       "      <td>10000317</td>\n",
       "      <td>Услуги</td>\n",
       "      <td>Предложения услуг</td>\n",
       "      <td>Поездки на таможню, печать в паспорте</td>\n",
       "      <td>Поездки на таможню гражданам СНГ для пересечен...</td>\n",
       "      <td>{\"Вид услуги\":\"Деловые услуги\", \"Тип услуги\":\"...</td>\n",
       "      <td>1500</td>\n",
       "      <td>0.0</td>\n",
       "      <td>1</td>\n",
       "      <td>0</td>\n",
       "      <td>0</td>\n",
       "      <td>0</td>\n",
       "      <td>1.43</td>\n",
       "    </tr>\n",
       "  </tbody>\n",
       "</table>\n",
       "</div>"
      ],
      "text/plain": [
       "     itemid      category                subcategory  \\\n",
       "0  10000010     Транспорт      Автомобили с пробегом   \n",
       "1  10000094   Личные вещи  Одежда, обувь, аксессуары   \n",
       "2  10000299   Личные вещи     Детская одежда и обувь   \n",
       "3  10000309  Недвижимость                   Квартиры   \n",
       "4  10000317        Услуги          Предложения услуг   \n",
       "\n",
       "                                               title  \\\n",
       "0                                  Toyota Sera, 1991   \n",
       "1                                   Костюм Steilmann   \n",
       "2  Костюм Didriksons Boardman, размер 100, краги,...   \n",
       "3                      1-к квартира, 44 м², 9/20 эт.   \n",
       "4              Поездки на таможню, печать в паспорте   \n",
       "\n",
       "                                         description  \\\n",
       "0  Новая оригинальная линзованая оптика на ксенон...   \n",
       "1  Юбка и топ из панбархата. Под топ  трикотажная...   \n",
       "2  Костюм Didriksons Boardman, в отличном состоян...   \n",
       "3  В кирпичном пан.-м доме, продается одноком.-ая...   \n",
       "4  Поездки на таможню гражданам СНГ для пересечен...   \n",
       "\n",
       "                                               attrs    price  is_proved  \\\n",
       "0  {\"Год выпуска\":\"1991\", \"Тип кузова\":\"Купе\", \"П...   150000        NaN   \n",
       "1  {\"Вид одежды\":\"Женская одежда\", \"Предмет одежд...     1500        NaN   \n",
       "2  {\"Вид одежды\":\"Для мальчиков\", \"Предмет одежды...     3000        NaN   \n",
       "3  {\"Тип объявления\":\"Продам\", \"Количество комнат...  2642020        NaN   \n",
       "4  {\"Вид услуги\":\"Деловые услуги\", \"Тип услуги\":\"...     1500        0.0   \n",
       "\n",
       "   is_blocked  phones_cnt  emails_cnt  urls_cnt  close_hours  \n",
       "0           0           0           0         0         0.03  \n",
       "1           0           0           0         0         0.41  \n",
       "2           0           0           0         0         5.49  \n",
       "3           0           1           0         0        22.47  \n",
       "4           1           0           0         0         1.43  "
      ]
     },
     "execution_count": 4,
     "metadata": {},
     "output_type": "execute_result"
    }
   ],
   "source": [
    "print df.shape, df.is_blocked.mean()\n",
    "df[:5]"
   ]
  },
  {
   "cell_type": "markdown",
   "metadata": {},
   "source": [
    "![caption](https://kaggle2.blob.core.windows.net/competitions/kaggle/3929/media/Ad.png)"
   ]
  },
  {
   "cell_type": "code",
   "execution_count": null,
   "metadata": {
    "collapsed": false
   },
   "outputs": [],
   "source": [
    "print \"Blocked ratio\",df.is_blocked.mean()\n",
    "print \"Count:\",len(df)"
   ]
  },
  {
   "cell_type": "markdown",
   "metadata": {},
   "source": [
    "# Balance-out the classes\n",
    "* Vast majority of data samples are non-prohibited\n",
    " * 250k banned out of 4kk\n",
    " * Let's just downsample random 250k legal samples to make further steps less computationally demanding\n",
    " * If you aim for high Kaggle score, consider a smarter approach to that.\n"
   ]
  },
  {
   "cell_type": "code",
   "execution_count": null,
   "metadata": {
    "collapsed": false
   },
   "outputs": [],
   "source": [
    "#downsample\n",
    "\n",
    "df_0 = df.query('is_blocked==0')\n",
    "df_1 = df.query('is_blocked==1')\n",
    "\n",
    "length = min(len(df_0), len(df_1))\n",
    "frames = [df_0[:length], df_1[:length]]\n",
    "\n",
    "df = pd.concat(frames)\n",
    "\n",
    "print \"Blocked ratio:\",df.is_blocked.mean()\n",
    "print \"Count:\",len(df)"
   ]
  },
  {
   "cell_type": "code",
   "execution_count": 45,
   "metadata": {
    "collapsed": false
   },
   "outputs": [
    {
     "name": "stdout",
     "output_type": "stream",
     "text": [
      "All tests passed\n"
     ]
    }
   ],
   "source": [
    "assert df.is_blocked.mean() < 0.51\n",
    "assert df.is_blocked.mean() > 0.49\n",
    "assert len(df) <= 560000\n",
    "\n",
    "print \"All tests passed\""
   ]
  },
  {
   "cell_type": "code",
   "execution_count": 46,
   "metadata": {
    "collapsed": false
   },
   "outputs": [
    {
     "ename": "NameError",
     "evalue": "name 'very_low_ram' is not defined",
     "output_type": "error",
     "traceback": [
      "\u001b[0;31m---------------------------------------------------------------------------\u001b[0m",
      "\u001b[0;31mNameError\u001b[0m                                 Traceback (most recent call last)",
      "\u001b[0;32m<ipython-input-46-7cd356d2aa3c>\u001b[0m in \u001b[0;36m<module>\u001b[0;34m()\u001b[0m\n\u001b[1;32m      1\u001b[0m \u001b[0;31m#In case your RAM-o-meter is in the red\u001b[0m\u001b[0;34m\u001b[0m\u001b[0;34m\u001b[0m\u001b[0m\n\u001b[0;32m----> 2\u001b[0;31m \u001b[0;32mif\u001b[0m \u001b[0mvery_low_ram\u001b[0m\u001b[0;34m:\u001b[0m\u001b[0;34m\u001b[0m\u001b[0m\n\u001b[0m\u001b[1;32m      3\u001b[0m     \u001b[0mdata\u001b[0m \u001b[0;34m=\u001b[0m \u001b[0mdata\u001b[0m\u001b[0;34m[\u001b[0m\u001b[0;34m:\u001b[0m\u001b[0;34m:\u001b[0m\u001b[0;36m2\u001b[0m\u001b[0;34m]\u001b[0m\u001b[0;34m\u001b[0m\u001b[0m\n",
      "\u001b[0;31mNameError\u001b[0m: name 'very_low_ram' is not defined"
     ]
    }
   ],
   "source": [
    "#In case your RAM-o-meter is in the red\n",
    "if very_low_ram:\n",
    "    data = data[::2]"
   ]
  },
  {
   "cell_type": "markdown",
   "metadata": {
    "collapsed": false
   },
   "source": [
    "# Tokenizing\n",
    "\n",
    "First, we create a dictionary of all existing words.\n",
    "Assign each word a number - it's Id"
   ]
  },
  {
   "cell_type": "code",
   "execution_count": 47,
   "metadata": {
    "collapsed": false
   },
   "outputs": [],
   "source": [
    "from nltk.tokenize import RegexpTokenizer\n",
    "from collections import Counter,defaultdict\n",
    "tokenizer = RegexpTokenizer(r\"\\w+\")\n",
    "\n",
    "#Dictionary of tokens\n",
    "token_counts = Counter()\n",
    "\n",
    "#All texts\n",
    "all_texts = np.hstack([df.description.values,df.title.values])\n",
    "\n",
    "\n",
    "#Compute token frequencies\n",
    "for s in all_texts:\n",
    "    if type(s) is not str:\n",
    "        continue\n",
    "    s = s.decode('utf8').lower()\n",
    "    tokens = tokenizer.tokenize(s)\n",
    "    for token in tokens:\n",
    "        token_counts[token] +=1\n"
   ]
  },
  {
   "cell_type": "markdown",
   "metadata": {},
   "source": [
    "### Remove rare tokens\n",
    "\n",
    "We are unlikely to make use of words that are only seen a few times throughout the corpora.\n",
    "\n",
    "Again, if you want to beat Kaggle competition metrics, consider doing something better."
   ]
  },
  {
   "cell_type": "code",
   "execution_count": 48,
   "metadata": {
    "collapsed": false
   },
   "outputs": [
    {
     "data": {
      "image/png": "[encoded data removed]",
      "text/plain": [
       "<matplotlib.figure.Figure at 0x12ebb8c10>"
      ]
     },
     "metadata": {},
     "output_type": "display_data"
    }
   ],
   "source": [
    "#Word frequency distribution, just for kicks\n",
    "_=plt.hist(token_counts.values(),range=[0,50],bins=50)"
   ]
  },
  {
   "cell_type": "code",
   "execution_count": 49,
   "metadata": {
    "collapsed": false
   },
   "outputs": [],
   "source": [
    "#Select only the tokens that had at least 10 occurences in the corpora.\n",
    "#Use token_counts.\n",
    "\n",
    "min_count = 5\n",
    "tokens = [token for token in token_counts.keys() if token_counts[token] > min_count]\n"
   ]
  },
  {
   "cell_type": "code",
   "execution_count": 50,
   "metadata": {
    "collapsed": false
   },
   "outputs": [
    {
     "name": "stdout",
     "output_type": "stream",
     "text": [
      "119993 521988\n"
     ]
    }
   ],
   "source": [
    "print len(tokens), len(token_counts.keys())"
   ]
  },
  {
   "cell_type": "code",
   "execution_count": 51,
   "metadata": {
    "collapsed": false
   },
   "outputs": [],
   "source": [
    "token_to_id = {t:i+1 for i,t in enumerate(tokens)}\n",
    "null_token = \"NULL\"\n",
    "token_to_id[null_token] = 0\n"
   ]
  },
  {
   "cell_type": "code",
   "execution_count": 52,
   "metadata": {
    "collapsed": false
   },
   "outputs": [
    {
     "name": "stdout",
     "output_type": "stream",
     "text": [
      "# Tokens: 119994\n"
     ]
    }
   ],
   "source": [
    "print \"# Tokens:\",len(token_to_id)\n",
    "if len(token_to_id) < 30000:\n",
    "    print \"Alarm! It seems like there are too few tokens. Make sure you updated NLTK and applied correct thresholds -- unless you now what you're doing, ofc\"\n",
    "if len(token_to_id) > 1000000:\n",
    "    print \"Alarm! Too many tokens. You might have messed up when pruning rare ones -- unless you know what you're doin' ofc\""
   ]
  },
  {
   "cell_type": "markdown",
   "metadata": {},
   "source": [
    "### Replace words with IDs\n",
    "Set a maximum length for titles and descriptions.\n",
    " * If string is longer that that limit - crop it, if less - pad with zeros.\n",
    " * Thus we obtain a matrix of size [n_samples]x[max_length]\n",
    " * Element at i,j - is an identifier of word j within sample i"
   ]
  },
  {
   "cell_type": "code",
   "execution_count": 53,
   "metadata": {
    "collapsed": true
   },
   "outputs": [],
   "source": [
    "def vectorize(strings, token_to_id, max_len=150):\n",
    "    token_matrix = []\n",
    "    for s in strings:\n",
    "        if type(s) is not str:\n",
    "            token_matrix.append([0]*max_len)\n",
    "            continue\n",
    "        s = s.decode('utf8').lower()\n",
    "        tokens = tokenizer.tokenize(s)\n",
    "        token_ids = map(lambda token: token_to_id.get(token,0), tokens)[:max_len]\n",
    "        token_ids += [0]*(max_len - len(token_ids))\n",
    "        token_matrix.append(token_ids)\n",
    "\n",
    "    return np.array(token_matrix)"
   ]
  },
  {
   "cell_type": "code",
   "execution_count": 54,
   "metadata": {
    "collapsed": false
   },
   "outputs": [],
   "source": [
    "desc_tokens = vectorize(df.description.values,token_to_id,max_len = 150)\n",
    "title_tokens = vectorize(df.title.values,token_to_id,max_len = 15)"
   ]
  },
  {
   "cell_type": "markdown",
   "metadata": {
    "collapsed": false
   },
   "source": [
    "### Data format examples\n"
   ]
  },
  {
   "cell_type": "code",
   "execution_count": 55,
   "metadata": {
    "collapsed": false
   },
   "outputs": [
    {
     "name": "stdout",
     "output_type": "stream",
     "text": [
      "Размер матрицы: (549992, 15)\n",
      "Toyota Sera, 1991 -> [88299 86079 60751     0     0     0     0     0     0     0] ...\n",
      "Костюм Steilmann -> [33490     0     0     0     0     0     0     0     0     0] ...\n",
      "Костюм Didriksons Boardman, размер 100, краги, шап -> [33490 92066     0 49154 99859 33805     0     0     0     0] ...\n"
     ]
    }
   ],
   "source": [
    "print \"Размер матрицы:\",title_tokens.shape\n",
    "for title, tokens in zip(df.title.values[:3],title_tokens[:3]):\n",
    "    print title,'->', tokens[:10],'...'"
   ]
  },
  {
   "cell_type": "markdown",
   "metadata": {},
   "source": [
    "__ As you can see, our preprocessing is somewhat crude. Let us see if that is enough for our network __"
   ]
  },
  {
   "cell_type": "markdown",
   "metadata": {},
   "source": [
    "# Non-sequences\n",
    "\n",
    "\n",
    "Some data features are not text samples. E.g. price, # urls, category, etc\n",
    "\n",
    "They require a separate preprocessing."
   ]
  },
  {
   "cell_type": "code",
   "execution_count": 56,
   "metadata": {
    "collapsed": true
   },
   "outputs": [],
   "source": [
    "#All numeric features\n",
    "df_numerical_features = df[[\"phones_cnt\",\"emails_cnt\",\"urls_cnt\",\"price\"]]\n"
   ]
  },
  {
   "cell_type": "code",
   "execution_count": 57,
   "metadata": {
    "collapsed": false
   },
   "outputs": [],
   "source": [
    "#One-hot-encoded category and subcategory\n",
    "\n",
    "from sklearn.feature_extraction import DictVectorizer\n",
    "\n",
    "categories = df[[\"category\",\"subcategory\"]].to_dict('records')\n",
    "data_cat_subcat = df[[\"category\",\"subcategory\"]].values\n",
    "\n",
    "\n",
    "vectorizer = DictVectorizer(sparse=False)\n",
    "cat_one_hot = vectorizer.fit_transform(categories)\n",
    "cat_one_hot = pd.DataFrame(cat_one_hot,columns=vectorizer.feature_names_)"
   ]
  },
  {
   "cell_type": "code",
   "execution_count": 58,
   "metadata": {
    "collapsed": false
   },
   "outputs": [],
   "source": [
    "df_non_text = pd.merge(\n",
    "    df_numerical_features,cat_one_hot,on = np.arange(len(cat_one_hot))\n",
    ")\n",
    "del df_non_text[\"key_0\"]"
   ]
  },
  {
   "cell_type": "markdown",
   "metadata": {},
   "source": [
    "# Split data into training and test"
   ]
  },
  {
   "cell_type": "code",
   "execution_count": 59,
   "metadata": {
    "collapsed": false
   },
   "outputs": [],
   "source": [
    "#Target variable - whether or not sample contains prohibited material\n",
    "target = df.is_blocked.values.astype('int32')\n",
    "#Preprocessed titles\n",
    "title_tokens = title_tokens.astype('int32')\n",
    "#Preprocessed tokens\n",
    "desc_tokens = desc_tokens.astype('int32')\n",
    "\n",
    "#Non-sequences\n",
    "df_non_text = df_non_text.astype('float32')"
   ]
  },
  {
   "cell_type": "code",
   "execution_count": 60,
   "metadata": {
    "collapsed": false
   },
   "outputs": [],
   "source": [
    "#Split into training and test set.\n",
    "\n",
    "from sklearn.model_selection import train_test_split\n",
    "\n",
    "title_tr,title_ts,desc_tr,desc_ts,nontext_tr,nontext_ts,target_tr,target_ts = train_test_split(title_tokens, desc_tokens, df_non_text, target, test_size=0.33)"
   ]
  },
  {
   "cell_type": "markdown",
   "metadata": {},
   "source": [
    "## Save preprocessed data [optional]\n",
    "\n",
    "* The next tab can be used to stash all the essential data matrices and get rid of the rest of the data.\n",
    " * Highly recommended if you have less than 1.5GB RAM left\n",
    "* To do that, you need to first run it with save_prepared_data=True, then restart the notebook and only run this tab with read_prepared_data=True."
   ]
  },
  {
   "cell_type": "code",
   "execution_count": 1,
   "metadata": {
    "collapsed": false
   },
   "outputs": [
    {
     "name": "stdout",
     "output_type": "stream",
     "text": [
      "Reading saved data...\n",
      "done\n"
     ]
    }
   ],
   "source": [
    "save_prepared_data = False #save\n",
    "read_prepared_data = True #load\n",
    "\n",
    "#but not both at once\n",
    "assert not (save_prepared_data and read_prepared_data)\n",
    "\n",
    "if save_prepared_data:\n",
    "    print \"Saving preprocessed data (may take up to 3 minutes)\"\n",
    "\n",
    "    import pickle\n",
    "    with open(\"preprocessed_data.pcl\",'w') as fout:\n",
    "        pickle.dump((title_tr,title_ts,desc_tr,desc_ts,nontext_tr,nontext_ts,target_tr,target_ts), fout)\n",
    "    with open(\"token_to_id.pcl\",'w') as fout:\n",
    "        pickle.dump(token_to_id,fout)\n",
    "\n",
    "    print \"готово\"\n",
    "    \n",
    "elif read_prepared_data:\n",
    "    print \"Reading saved data...\"\n",
    "    \n",
    "    import pickle\n",
    "    \n",
    "    with open(\"preprocessed_data.pcl\",'r') as fin:\n",
    "        data_tuple = pickle.load(fin)\n",
    "    title_tr,title_ts,desc_tr,desc_ts,nontext_tr,nontext_ts,target_tr,target_ts = data_tuple\n",
    "    with open(\"token_to_id.pcl\",'r') as fin:\n",
    "        token_to_id = pickle.load(fin)\n",
    "        \n",
    "    #Re-importing libraries to allow staring noteboook from here\n",
    "    import pandas as pd\n",
    "    import numpy as np\n",
    "    import matplotlib.pyplot as plt\n",
    "    %matplotlib inline\n",
    "    print \"done\"        "
   ]
  },
  {
   "cell_type": "markdown",
   "metadata": {},
   "source": [
    "# Train the monster\n",
    "\n",
    "Since we have several data sources, our neural network may differ from what you used to work with.\n",
    "\n",
    "* Separate input for titles: RNN\n",
    "* Separate input for description: RNN\n",
    "* Separate input for categorical features: обычные полносвязные слои или какие-нибудь трюки\n",
    " \n",
    "These three inputs must be blended somehow - concatenated or added.\n",
    "\n",
    "* Output: a simple binary classification\n",
    " * 1 sigmoidal with binary_crossentropy\n",
    " * 2 softmax with categorical_crossentropy - essentially the same as previous one\n",
    " * 1 neuron without nonlinearity (lambda x: x) +  hinge loss\n",
    " "
   ]
  },
  {
   "cell_type": "code",
   "execution_count": 2,
   "metadata": {
    "collapsed": false
   },
   "outputs": [
    {
     "name": "stderr",
     "output_type": "stream",
     "text": [
      "/Users/physteshka/anaconda2/lib/python2.7/site-packages/theano/tensor/signal/downsample.py:6: UserWarning: downsample module has been moved to the theano.tensor.signal.pool module.\n",
      "  \"downsample module has been moved to the theano.tensor.signal.pool module.\")\n"
     ]
    }
   ],
   "source": [
    "#libraries\n",
    "import lasagne\n",
    "from theano import tensor as T\n",
    "import theano"
   ]
  },
  {
   "cell_type": "code",
   "execution_count": 3,
   "metadata": {
    "collapsed": true
   },
   "outputs": [],
   "source": [
    "#3 inputs and a refere output\n",
    "title_token_ids = T.matrix(\"title_token_ids\",dtype='int32')\n",
    "desc_token_ids = T.matrix(\"desc_token_ids\",dtype='int32')\n",
    "categories = T.matrix(\"categories\",dtype='float32')\n",
    "target_y = T.ivector(\"is_blocked\")"
   ]
  },
  {
   "cell_type": "code",
   "execution_count": 4,
   "metadata": {
    "collapsed": false
   },
   "outputs": [
    {
     "data": {
      "text/plain": [
       "Subtensor{:int64:}.0"
      ]
     },
     "execution_count": 4,
     "metadata": {},
     "output_type": "execute_result"
    }
   ],
   "source": [
    "categories[:2]"
   ]
  },
  {
   "cell_type": "code",
   "execution_count": 5,
   "metadata": {
    "collapsed": false
   },
   "outputs": [],
   "source": [
    "import theano.tensor\n",
    "\n",
    "def align_targets(predictions, targets):\n",
    "    \"\"\"Helper function turning a target 1D vector into a column if needed.\n",
    "    This way, combining a network of a single output unit with a target vector\n",
    "    works as expected by most users, not broadcasting outputs against targets.\n",
    "    Parameters\n",
    "    ----------\n",
    "    predictions : Theano tensor\n",
    "        Expression for the predictions of a neural network.\n",
    "    targets : Theano tensor\n",
    "        Expression or variable for corresponding targets.\n",
    "    Returns\n",
    "    -------\n",
    "    predictions : Theano tensor\n",
    "        The predictions unchanged.\n",
    "    targets : Theano tensor\n",
    "        If `predictions` is a column vector and `targets` is a 1D vector,\n",
    "        returns `targets` turned into a column vector. Otherwise, returns\n",
    "        `targets` unchanged.\n",
    "    \"\"\"\n",
    "    if (getattr(predictions, 'broadcastable', None) == (False, True) and\n",
    "            getattr(targets, 'ndim', None) == 1):\n",
    "        targets = as_theano_expression(targets).dimshuffle(0, 'x')\n",
    "    return predictions, targets\n",
    "\n",
    "def binary_hinge_loss(predictions, targets, delta=1, log_odds=None,\n",
    "                      binary=True):\n",
    "    \"\"\"Computes the binary hinge loss between predictions and targets.\n",
    "    .. math:: L_i = \\\\max(0, \\\\delta - t_i p_i)\n",
    "    Parameters\n",
    "    ----------\n",
    "    predictions : Theano tensor\n",
    "        Predictions in (0, 1), such as sigmoidal output of a neural network\n",
    "        (or log-odds of predictions depending on `log_odds`).\n",
    "    targets : Theano tensor\n",
    "        Targets in {0, 1} (or in {-1, 1} depending on `binary`), such as\n",
    "        ground truth labels.\n",
    "    delta : scalar, default 1\n",
    "        The hinge loss margin\n",
    "    log_odds : bool, default None\n",
    "        ``False`` if predictions are sigmoid outputs in (0, 1), ``True`` if\n",
    "        predictions are sigmoid inputs, or log-odds. If ``None``, will assume\n",
    "        ``True``, but warn that the default will change to ``False``.\n",
    "    binary : bool, default True\n",
    "        ``True`` if targets are in {0, 1}, ``False`` if they are in {-1, 1}\n",
    "    Returns\n",
    "    -------\n",
    "    Theano tensor\n",
    "        An expression for the element-wise binary hinge loss\n",
    "    Notes\n",
    "    -----\n",
    "    This is an alternative to the binary cross-entropy loss for binary\n",
    "    classification problems.\n",
    "    Note that it is a drop-in replacement only when giving ``log_odds=False``.\n",
    "    Otherwise, it requires log-odds rather than sigmoid outputs. Be aware that\n",
    "    depending on the Theano version, ``log_odds=False`` with a sigmoid\n",
    "    output layer may be less stable than ``log_odds=True`` with a linear layer.\n",
    "    \"\"\"\n",
    "    if log_odds is None:  # pragma: no cover\n",
    "        raise FutureWarning(\n",
    "                \"The `log_odds` argument to `binary_hinge_loss` will change \"\n",
    "                \"its default to `False` in a future version. Explicitly give \"\n",
    "                \"`log_odds=True` to retain current behavior in your code, \"\n",
    "                \"but also check the documentation if this is what you want.\")\n",
    "        log_odds = True\n",
    "    if not log_odds:\n",
    "        predictions = theano.tensor.log(predictions / (1 - predictions))\n",
    "    if binary:\n",
    "        targets = 2 * targets - 1\n",
    "    predictions, targets = align_targets(predictions, targets)\n",
    "    return theano.tensor.nnet.relu(delta - predictions * targets)\n"
   ]
  },
  {
   "cell_type": "markdown",
   "metadata": {},
   "source": [
    "# NN architecture"
   ]
  },
  {
   "cell_type": "code",
   "execution_count": 6,
   "metadata": {
    "collapsed": false
   },
   "outputs": [],
   "source": [
    "title_inp = lasagne.layers.InputLayer((None, title_tr.shape[1]),input_var=title_token_ids)\n",
    "descr_inp = lasagne.layers.InputLayer((None, desc_tr.shape[1]),input_var=desc_token_ids)\n",
    "cat_inp = lasagne.layers.InputLayer((None, nontext_tr.shape[1]), input_var=categories)"
   ]
  },
  {
   "cell_type": "code",
   "execution_count": 7,
   "metadata": {
    "collapsed": false
   },
   "outputs": [],
   "source": [
    "from lasagne.nonlinearities import *\n",
    "# Descriptions\n",
    "\n",
    "#word-wise embedding. We recommend to start from some 64 and improving after you are certain it works.\n",
    "\n",
    "descr_nn = lasagne.layers.EmbeddingLayer(descr_inp,\n",
    "                                         input_size=len(token_to_id),\n",
    "                                         output_size=128)\n",
    "\n",
    "\n",
    "#reshape from [batch, time, unit] to [batch,unit,time] to allow 1d convolution over time\n",
    "descr_nn = lasagne.layers.DimshuffleLayer(descr_nn, [0,2,1])\n",
    "\n",
    "descr_nn = lasagne.layers.Conv1DLayer(descr_nn, 256, 5)\n",
    "\n",
    "descr_nn = lasagne.layers.MaxPool1DLayer(descr_nn, 2)\n",
    "\n",
    "descr_nn = lasagne.layers.Conv1DLayer(descr_nn, 256, 5)\n",
    "\n",
    "descr_nn = lasagne.layers.GlobalPoolLayer(descr_nn,T.max)\n",
    "\n",
    "\n",
    "# Titles\n",
    "\n",
    "title_nn = lasagne.layers.EmbeddingLayer(title_inp,\n",
    "                                         input_size=len(token_to_id),\n",
    "                                         output_size=128)\n",
    "\n",
    "\n",
    "#reshape from [batch, time, unit] to [batch,unit,time] to allow 1d convolution over time\n",
    "title_nn = lasagne.layers.DimshuffleLayer(title_nn, [0,2,1])\n",
    "\n",
    "title_nn = lasagne.layers.Conv1DLayer(title_nn, 128, 3)\n",
    "\n",
    "title_nn = lasagne.layers.MaxPool1DLayer(title_nn, 2)\n",
    "\n",
    "title_nn = lasagne.layers.Conv1DLayer(title_nn, 128, 3)\n",
    "\n",
    "#pool over time\n",
    "title_nn = lasagne.layers.GlobalPoolLayer(title_nn,T.max)\n",
    "\n",
    "# Non-sequences\n",
    "cat_nn = lasagne.layers.DenseLayer(cat_inp, 256)\n",
    "\n"
   ]
  },
  {
   "cell_type": "code",
   "execution_count": 8,
   "metadata": {
    "collapsed": false
   },
   "outputs": [],
   "source": [
    "nn = lasagne.layers.ConcatLayer([descr_nn, title_nn, cat_nn])                              \n",
    "\n",
    "nn = lasagne.layers.DenseLayer(nn, num_units=1048)\n",
    "nn = lasagne.layers.DropoutLayer(nn,p=0.3)\n",
    "nn = lasagne.layers.DenseLayer(nn,1,nonlinearity=lasagne.nonlinearities.linear)"
   ]
  },
  {
   "cell_type": "code",
   "execution_count": 9,
   "metadata": {
    "collapsed": false
   },
   "outputs": [
    {
     "data": {
      "text/plain": [
       "<lasagne.layers.dense.DenseLayer at 0x11c1b5110>"
      ]
     },
     "execution_count": 9,
     "metadata": {},
     "output_type": "execute_result"
    }
   ],
   "source": [
    "nn"
   ]
  },
  {
   "cell_type": "markdown",
   "metadata": {},
   "source": [
    "# Loss function\n",
    "\n",
    "* The standard way:\n",
    " * prediction\n",
    " * loss\n",
    " * updates\n",
    " * training and evaluation functions\n",
    " \n",
    " \n",
    "* Hinge loss\n",
    " * $ L_i = \\max(0, \\delta - t_i p_i) $\n",
    " * delta is a tunable parameter: how far should a neuron be in the positive margin area for us to stop bothering about it\n",
    " * Function description may mention some +-1  limitations - this is not neccessary, at least as long as hinge loss has a __default__ flag `binary = True`"
   ]
  },
  {
   "cell_type": "code",
   "execution_count": 10,
   "metadata": {
    "collapsed": false
   },
   "outputs": [
    {
     "name": "stdout",
     "output_type": "stream",
     "text": [
      "[W, W, b, W, b, W, W, b, W, b, W, b, W, b, W, b]\n"
     ]
    }
   ],
   "source": [
    "#All trainable params\n",
    "weights = lasagne.layers.get_all_params(nn,trainable=True)\n",
    "print weights"
   ]
  },
  {
   "cell_type": "code",
   "execution_count": 11,
   "metadata": {
    "collapsed": false
   },
   "outputs": [
    {
     "name": "stderr",
     "output_type": "stream",
     "text": [
      "/Users/physteshka/anaconda2/lib/python2.7/site-packages/lasagne/theano_extensions/conv.py:66: UserWarning: The `image_shape` keyword argument to `tensor.nnet.conv2d` is deprecated, it has been renamed to `input_shape`.\n",
      "  border_mode=border_mode)\n"
     ]
    }
   ],
   "source": [
    "\n",
    "#Simple NN prediction\n",
    "prediction = lasagne.layers.get_output(nn)[:,0]\n",
    "\n",
    "#Hinge loss\n",
    "loss = binary_hinge_loss(prediction,target_y, delta = 1, log_odds=True).mean()"
   ]
  },
  {
   "cell_type": "code",
   "execution_count": 12,
   "metadata": {
    "collapsed": false
   },
   "outputs": [],
   "source": [
    "#Weight optimization step\n",
    "#updates = lasagne.updates.nesterov_momentum(loss, weights, learning_rate=0.01, momentum=0.9)\n",
    "updates = lasagne.updates.adam(loss, weights)"
   ]
  },
  {
   "cell_type": "markdown",
   "metadata": {},
   "source": [
    "### Determinitic prediction \n",
    " * In case we use stochastic elements, e.g. dropout or noize\n",
    " * Compile a separate set of functions with deterministic prediction (deterministic = True)\n",
    " * Unless you think there's no neet for dropout there ofc. Btw is there?"
   ]
  },
  {
   "cell_type": "code",
   "execution_count": 13,
   "metadata": {
    "collapsed": false
   },
   "outputs": [],
   "source": [
    "#deterministic version\n",
    "det_prediction = lasagne.layers.get_output(nn,deterministic=True)[:,0]\n",
    "\n",
    "#equivalent loss function\n",
    "det_loss = binary_hinge_loss(prediction,target_y,delta = 1, log_odds=True).mean()"
   ]
  },
  {
   "cell_type": "markdown",
   "metadata": {},
   "source": [
    "### Coffee-lation"
   ]
  },
  {
   "cell_type": "code",
   "execution_count": 14,
   "metadata": {
    "collapsed": false
   },
   "outputs": [],
   "source": [
    "train_fun = theano.function([desc_token_ids,title_token_ids,categories,target_y],[loss,prediction],updates = updates)\n",
    "eval_fun = theano.function([desc_token_ids,title_token_ids,categories,target_y],[det_loss,det_prediction])"
   ]
  },
  {
   "cell_type": "markdown",
   "metadata": {},
   "source": [
    "# Training loop\n",
    "* The regular way with loops over minibatches\n",
    "* Since the dataset is huge, we define epoch as some fixed amount of samples isntead of all dataset"
   ]
  },
  {
   "cell_type": "code",
   "execution_count": 15,
   "metadata": {
    "collapsed": false
   },
   "outputs": [],
   "source": [
    "#average precision at K\n",
    "\n",
    "from oracle import APatK, score"
   ]
  },
  {
   "cell_type": "code",
   "execution_count": 16,
   "metadata": {
    "collapsed": false
   },
   "outputs": [],
   "source": [
    "# Out good old minibatch iterator now supports arbitrary amount of arrays (X,y,z)\n",
    "\n",
    "def iterate_minibatches(*arrays,**kwargs):\n",
    "    batchsize=kwargs.get(\"batchsize\",100)\n",
    "    shuffle = kwargs.get(\"shuffle\",True)\n",
    "    \n",
    "    if shuffle:\n",
    "        indices = np.arange(len(arrays[0]))\n",
    "        np.random.shuffle(indices)\n",
    "    for start_idx in range(0, len(arrays[0]) - batchsize + 1, batchsize):\n",
    "        if shuffle:\n",
    "            excerpt = indices[start_idx:start_idx + batchsize]\n",
    "        else:\n",
    "            excerpt = slice(start_idx, start_idx + batchsize)\n",
    "        yield [arr.iloc[excerpt, :] if type(arr) == pd.core.frame.DataFrame else arr[excerpt] for arr in arrays]"
   ]
  },
  {
   "cell_type": "markdown",
   "metadata": {},
   "source": [
    "### Tweaking guide\n",
    "\n",
    "* batch_size - how many samples are processed per function call\n",
    "  * optimization gets slower, but more stable, as you increase it.\n",
    "  * May consider increasing it halfway through training\n",
    "* minibatches_per_epoch - max amount of minibatches per epoch\n",
    "  * Does not affect training. Lesser value means more frequent and less stable printing\n",
    "  * Setting it to less than 10 is only meaningfull if you want to make sure your NN does not break down after one epoch\n",
    "* n_epochs - total amount of epochs to train for\n",
    "  * `n_epochs = 10**10` and manual interrupting is still an option\n",
    "\n",
    "\n",
    "Tips:\n",
    "\n",
    "* With small minibatches_per_epoch, network quality may jump around 0.5 for several epochs\n",
    "\n",
    "* AUC is the most stable of all three metrics\n",
    "\n",
    "* Average Precision at top 2.5% (APatK) - is the least stable. If batch_size*minibatches_per_epoch < 10k, it behaves as a uniform random variable.\n",
    "\n",
    "* Plotting metrics over training time may be a good way to analyze which architectures work better.\n",
    "\n",
    "* Once you are sure your network aint gonna crash, it's worth letting it train for a few hours of an average laptop's time to see it's true potential"
   ]
  },
  {
   "cell_type": "code",
   "execution_count": 17,
   "metadata": {
    "collapsed": false
   },
   "outputs": [
    {
     "name": "stdout",
     "output_type": "stream",
     "text": [
      "Epoch №  0\n",
      "Train:\n",
      "\tloss: 5688.60708027\n",
      "\tacc: 0.625643564356\n",
      "\tauc: 0.673821673012\n",
      "\tap@k: 0.0991354206002\n",
      "Val:\n",
      "\tloss: 9840.63529255\n",
      "\tacc: 0.543267326733\n",
      "\tauc: 0.557542662651\n",
      "\tap@k: 0.91420342628\n",
      "Epoch №  1\n",
      "Train:\n",
      "\tloss: 47704.3241396\n",
      "\tacc: 0.634356435644\n",
      "\tauc: 0.659482356355\n",
      "\tap@k: 0.0426135883172\n",
      "Val:\n",
      "\tloss: 10190.9532372\n",
      "\tacc: 0.727722772277\n",
      "\tauc: 0.73407313948\n",
      "\tap@k: 0.997252838091\n",
      "Epoch №  2\n",
      "Train:\n",
      "\tloss: 26846.4703765\n",
      "\tacc: 0.73198019802\n",
      "\tauc: 0.721376801706\n",
      "\tap@k: 0.105809160013\n",
      "Val:\n",
      "\tloss: 14905.2628587\n",
      "\tacc: 0.717821782178\n",
      "\tauc: 0.754167091627\n",
      "\tap@k: 1.0\n",
      "Epoch №  3\n",
      "Train:\n",
      "\tloss: 3577.90223434\n",
      "\tacc: 0.804653465347\n",
      "\tauc: 0.867917352471\n",
      "\tap@k: 0.476927044063\n",
      "Val:\n",
      "\tloss: 30888.5634252\n",
      "\tacc: 0.773366336634\n",
      "\tauc: 0.805689338154\n",
      "\tap@k: 0.998153077152\n",
      "Epoch №  4\n",
      "Train:\n",
      "\tloss: 4678.59877092\n",
      "\tacc: 0.82801980198\n",
      "\tauc: 0.885698075173\n",
      "\tap@k: 0.318141159679\n",
      "Val:\n",
      "\tloss: 22477.3531932\n",
      "\tacc: 0.792871287129\n",
      "\tauc: 0.81397051439\n",
      "\tap@k: 0.981605695209\n",
      "Epoch №  5\n",
      "Train:\n",
      "\tloss: 8338.84459632\n",
      "\tacc: 0.84396039604\n",
      "\tauc: 0.903518217312\n",
      "\tap@k: 0.762188610445\n",
      "Val:\n",
      "\tloss: 12046.7825836\n",
      "\tacc: 0.773762376238\n",
      "\tauc: 0.815646738606\n",
      "\tap@k: 0.963051173088\n",
      "Epoch №  6\n",
      "Train:\n",
      "\tloss: 12464.4134247\n",
      "\tacc: 0.803762376238\n",
      "\tauc: 0.852978794731\n",
      "\tap@k: 0.161135181844\n",
      "Val:\n",
      "\tloss: 58471.3170769\n",
      "\tacc: 0.797425742574\n",
      "\tauc: 0.814028813412\n",
      "\tap@k: 0.988719829655\n",
      "Epoch №  7\n",
      "Train:\n",
      "\tloss: 4869.40627825\n",
      "\tacc: 0.847524752475\n",
      "\tauc: 0.9095935524\n",
      "\tap@k: 0.720938025456\n",
      "Val:\n",
      "\tloss: 7097.66087484\n",
      "\tacc: 0.849900990099\n",
      "\tauc: 0.895783081779\n",
      "\tap@k: 0.772270759279\n",
      "Epoch №  8\n",
      "Train:\n",
      "\tloss: 14833.1394452\n",
      "\tacc: 0.850792079208\n",
      "\tauc: 0.899098263706\n",
      "\tap@k: 0.358071640762\n",
      "Val:\n",
      "\tloss: 11828.4733392\n",
      "\tacc: 0.851188118812\n",
      "\tauc: 0.913979631802\n",
      "\tap@k: 0.983139912646\n",
      "Epoch №  9\n",
      "Train:\n",
      "\tloss: 5526.74357161\n",
      "\tacc: 0.870891089109\n",
      "\tauc: 0.927877085903\n",
      "\tap@k: 0.687519483723\n",
      "Val:\n",
      "\tloss: 45585.730859\n",
      "\tacc: 0.786831683168\n",
      "\tauc: 0.820893633125\n",
      "\tap@k: 0.984545966503\n",
      "Epoch №  10\n",
      "Train:\n",
      "\tloss: 12865.0823078\n",
      "\tacc: 0.866831683168\n",
      "\tauc: 0.928025762624\n",
      "\tap@k: 0.88589174591\n",
      "Val:\n",
      "\tloss: 6761.67020141\n",
      "\tacc: 0.859504950495\n",
      "\tauc: 0.905687105087\n",
      "\tap@k: 0.99507858979\n",
      "Epoch №  11\n",
      "Train:\n",
      "\tloss: 7296.53517746\n",
      "\tacc: 0.865841584158\n",
      "\tauc: 0.928287244709\n",
      "\tap@k: 0.78514679487\n",
      "Val:\n",
      "\tloss: 8163.96894291\n",
      "\tacc: 0.849801980198\n",
      "\tauc: 0.890234868911\n",
      "\tap@k: 0.606178946128\n",
      "Epoch №  12\n",
      "Train:\n",
      "\tloss: 861.372791736\n",
      "\tacc: 0.882871287129\n",
      "\tauc: 0.943671875843\n",
      "\tap@k: 0.917448182865\n",
      "Val:\n",
      "\tloss: 5679.8609084\n",
      "\tacc: 0.853762376238\n",
      "\tauc: 0.89759182859\n",
      "\tap@k: 0.987066695453\n",
      "Epoch №  13\n",
      "Train:\n",
      "\tloss: 13470.7550427\n",
      "\tacc: 0.847821782178\n",
      "\tauc: 0.894697517223\n",
      "\tap@k: 0.349643273276\n",
      "Val:\n",
      "\tloss: 29488.5347614\n",
      "\tacc: 0.841188118812\n",
      "\tauc: 0.872172631424\n",
      "\tap@k: 0.608831976935\n",
      "Epoch №  14\n",
      "Train:\n",
      "\tloss: 7720.76092421\n",
      "\tacc: 0.878316831683\n",
      "\tauc: 0.939237305252\n",
      "\tap@k: 0.782655555036\n",
      "Val:\n",
      "\tloss: 4094.99245512\n",
      "\tacc: 0.865742574257\n",
      "\tauc: 0.932644105325\n",
      "\tap@k: 0.991983932829\n",
      "Epoch №  15\n",
      "Train:\n",
      "\tloss: 7116.5009525\n",
      "\tacc: 0.862178217822\n",
      "\tauc: 0.933132245349\n",
      "\tap@k: 0.777026597772\n",
      "Val:\n",
      "\tloss: 3901.49634928\n",
      "\tacc: 0.885148514851\n",
      "\tauc: 0.949850026291\n",
      "\tap@k: 0.994683784677\n",
      "Epoch №  16\n",
      "Train:\n",
      "\tloss: 2080.83267404\n",
      "\tacc: 0.877128712871\n",
      "\tauc: 0.945313263407\n",
      "\tap@k: 0.927666220183\n",
      "Val:\n",
      "\tloss: 27028.561317\n",
      "\tacc: 0.842079207921\n",
      "\tauc: 0.884964601697\n",
      "\tap@k: 0.991063728799\n",
      "Epoch №  17\n",
      "Train:\n",
      "\tloss: 6133.99052633\n",
      "\tacc: 0.879405940594\n",
      "\tauc: 0.946752393922\n",
      "\tap@k: 0.859773029633\n",
      "Val:\n",
      "\tloss: 8725.42162431\n",
      "\tacc: 0.84900990099\n",
      "\tauc: 0.904438581579\n",
      "\tap@k: 0.997076825007\n",
      "Epoch №  18\n",
      "Train:\n",
      "\tloss: 19494.6239039\n",
      "\tacc: 0.880594059406\n",
      "\tauc: 0.943021555504\n",
      "\tap@k: 0.739244713822\n",
      "Val:\n",
      "\tloss: 6784.15207719\n",
      "\tacc: 0.874158415842\n",
      "\tauc: 0.917297510844\n",
      "\tap@k: 0.772426222793\n",
      "Epoch №  19\n",
      "Train:\n",
      "\tloss: 1934.10108083\n",
      "\tacc: 0.891188118812\n",
      "\tauc: 0.950427862125\n",
      "\tap@k: 0.868677186787\n",
      "Val:\n",
      "\tloss: 24761.3425594\n",
      "\tacc: 0.845742574257\n",
      "\tauc: 0.887295670563\n",
      "\tap@k: 0.656742183175\n",
      "Epoch №  20\n",
      "Train:\n",
      "\tloss: 4264.24332044\n",
      "\tacc: 0.885940594059\n",
      "\tauc: 0.949633472846\n",
      "\tap@k: 0.799901379766\n",
      "Val:\n",
      "\tloss: 11782.0335231\n",
      "\tacc: 0.880198019802\n",
      "\tauc: 0.930000896853\n",
      "\tap@k: 0.800048407176\n",
      "Epoch №  21\n",
      "Train:\n",
      "\tloss: 774.281517418\n",
      "\tacc: 0.889207920792\n",
      "\tauc: 0.951784091544\n",
      "\tap@k: 0.956228689227\n",
      "Val:\n",
      "\tloss: 4609.6532598\n",
      "\tacc: 0.895940594059\n",
      "\tauc: 0.944215017812\n",
      "\tap@k: 0.962892130055\n",
      "Epoch №  22\n",
      "Train:\n",
      "\tloss: 1488.94707367\n",
      "\tacc: 0.896633663366\n",
      "\tauc: 0.95621344754\n",
      "\tap@k: 0.933530131361\n",
      "Val:\n",
      "\tloss: 7818.03314813\n",
      "\tacc: 0.868316831683\n",
      "\tauc: 0.903930417793\n",
      "\tap@k: 0.704407866007\n",
      "Epoch №  23\n",
      "Train:\n",
      "\tloss: 1233.63071869\n",
      "\tacc: 0.896336633663\n",
      "\tauc: 0.958040028666\n",
      "\tap@k: 0.943919897914\n",
      "Val:\n",
      "\tloss: 4383.15113566\n",
      "\tacc: 0.878712871287\n",
      "\tauc: 0.922090123145\n",
      "\tap@k: 0.989802083854\n",
      "Epoch №  24\n",
      "Train:\n",
      "\tloss: 1388.20934351\n",
      "\tacc: 0.895643564356\n",
      "\tauc: 0.954890725049\n",
      "\tap@k: 0.913923999718\n",
      "Val:\n",
      "\tloss: 21642.3893817\n",
      "\tacc: 0.850495049505\n",
      "\tauc: 0.894973420925\n",
      "\tap@k: 0.990947933755\n",
      "Epoch №  25\n",
      "Train:\n",
      "\tloss: 4881.11947206\n",
      "\tacc: 0.887425742574\n",
      "\tauc: 0.948839874418\n",
      "\tap@k: 0.832180303282\n",
      "Val:\n",
      "\tloss: 10824.7451262\n",
      "\tacc: 0.858415841584\n",
      "\tauc: 0.922554026619\n",
      "\tap@k: 0.965855631631\n",
      "Epoch №  26\n",
      "Train:\n",
      "\tloss: 12777.6638923\n",
      "\tacc: 0.895841584158\n",
      "\tauc: 0.953527709682\n",
      "\tap@k: 0.873469334398\n",
      "Val:\n",
      "\tloss: 8551.60793432\n",
      "\tacc: 0.871188118812\n",
      "\tauc: 0.908164330599\n",
      "\tap@k: 0.712243137402\n",
      "Epoch №  27\n",
      "Train:\n",
      "\tloss: 867.066050616\n",
      "\tacc: 0.899207920792\n",
      "\tauc: 0.957538357319\n",
      "\tap@k: 0.923595333404\n",
      "Val:\n",
      "\tloss: 2912.16817682\n",
      "\tacc: 0.888415841584\n",
      "\tauc: 0.93698813383\n",
      "\tap@k: 0.991940142395\n",
      "Epoch №  28\n",
      "Train:\n",
      "\tloss: 1898.59569116\n",
      "\tacc: 0.890594059406\n",
      "\tauc: 0.952924201353\n",
      "\tap@k: 0.90126946783\n",
      "Val:\n",
      "\tloss: 21679.4806676\n",
      "\tacc: 0.871287128713\n",
      "\tauc: 0.904728014805\n",
      "\tap@k: 0.997060427474\n",
      "Epoch №  29\n",
      "Train:\n",
      "\tloss: 5509.47730905\n",
      "\tacc: 0.886435643564\n",
      "\tauc: 0.942605287757\n",
      "\tap@k: 0.731179377878\n",
      "Val:\n",
      "\tloss: 47522.0987381\n",
      "\tacc: 0.848712871287\n",
      "\tauc: 0.891050323215\n",
      "\tap@k: 0.626350022777\n",
      "Epoch №  30\n",
      "Train:\n",
      "\tloss: 6150.35329913\n",
      "\tacc: 0.895940594059\n",
      "\tauc: 0.956005373533\n",
      "\tap@k: 0.834332717226\n",
      "Val:\n",
      "\tloss: 6924.83131405\n",
      "\tacc: 0.878316831683\n",
      "\tauc: 0.919895911905\n",
      "\tap@k: 0.996134008132\n",
      "Epoch №  31\n",
      "Train:\n",
      "\tloss: 6049.35198817\n",
      "\tacc: 0.884455445545\n",
      "\tauc: 0.945567746527\n",
      "\tap@k: 0.854741767463\n",
      "Val:\n",
      "\tloss: 45185.9201672\n",
      "\tacc: 0.843564356436\n",
      "\tauc: 0.882951632941\n",
      "\tap@k: 0.68005428679\n",
      "Epoch №  32\n",
      "Train:\n",
      "\tloss: 12426.5110767\n",
      "\tacc: 0.876435643564\n",
      "\tauc: 0.943161488165\n",
      "\tap@k: 0.77675605121\n",
      "Val:\n",
      "\tloss: 51952.5505764\n",
      "\tacc: 0.855544554455\n",
      "\tauc: 0.8879455321\n",
      "\tap@k: 0.663294189025\n",
      "Epoch №  33\n",
      "Train:\n",
      "\tloss: 5304.42022119\n",
      "\tacc: 0.873663366337\n",
      "\tauc: 0.94226122811\n",
      "\tap@k: 0.821755095392\n",
      "Val:\n",
      "\tloss: 19186.9732503\n",
      "\tacc: 0.868415841584\n",
      "\tauc: 0.914905346822\n",
      "\tap@k: 0.990139632597\n",
      "Epoch №  34\n",
      "Train:\n",
      "\tloss: 23632.6072211\n",
      "\tacc: 0.871881188119\n",
      "\tauc: 0.94224044283\n",
      "\tap@k: 0.800558175726\n",
      "Val:\n",
      "\tloss: 5905.10984926\n",
      "\tacc: 0.889108910891\n",
      "\tauc: 0.928440142053\n",
      "\tap@k: 0.823523956802\n",
      "Epoch №  35\n",
      "Train:\n",
      "\tloss: 10009.2373406\n",
      "\tacc: 0.880396039604\n",
      "\tauc: 0.943659741124\n",
      "\tap@k: 0.90759615985\n",
      "Val:\n",
      "\tloss: 50455.6890114\n",
      "\tacc: 0.851386138614\n",
      "\tauc: 0.887897311271\n",
      "\tap@k: 0.99484704906\n",
      "Epoch №  36\n",
      "Train:\n",
      "\tloss: 8543.60978633\n",
      "\tacc: 0.877326732673\n",
      "\tauc: 0.945569433764\n",
      "\tap@k: 1.0\n",
      "Val:\n",
      "\tloss: 15456.3805948\n",
      "\tacc: 0.876237623762\n",
      "\tauc: 0.914564391203\n",
      "\tap@k: 0.747905451032\n",
      "Epoch №  37\n",
      "Train:\n",
      "\tloss: 1274.88776619\n",
      "\tacc: 0.887524752475\n",
      "\tauc: 0.95137945098\n",
      "\tap@k: 0.929009200069\n",
      "Val:\n",
      "\tloss: 3632.51808752\n",
      "\tacc: 0.897425742574\n",
      "\tauc: 0.944260834753\n",
      "\tap@k: 0.909140658599\n",
      "Epoch №  38\n",
      "Train:\n",
      "\tloss: 2729.95830318\n",
      "\tacc: 0.889207920792\n",
      "\tauc: 0.951845848862\n",
      "\tap@k: 0.936957366211\n",
      "Val:\n",
      "\tloss: 3041.92069114\n",
      "\tacc: 0.901287128713\n",
      "\tauc: 0.948069492157\n",
      "\tap@k: 0.978071833135\n",
      "Epoch №  39\n",
      "Train:\n",
      "\tloss: 5036.17201593\n",
      "\tacc: 0.879207920792\n",
      "\tauc: 0.942344356135\n",
      "\tap@k: 0.835539116828\n",
      "Val:\n",
      "\tloss: 27868.3377614\n",
      "\tacc: 0.865742574257\n",
      "\tauc: 0.893781637273\n",
      "\tap@k: 0.669787018291\n",
      "Epoch №  40\n",
      "Train:\n",
      "\tloss: 32187.6282758\n",
      "\tacc: 0.883663366337\n",
      "\tauc: 0.94652531761\n",
      "\tap@k: 0.822561908256\n",
      "Val:\n",
      "\tloss: 6989.96100123\n",
      "\tacc: 0.872673267327\n",
      "\tauc: 0.91627410044\n",
      "\tap@k: 0.989878553497\n",
      "Epoch №  41\n",
      "Train:\n",
      "\tloss: 5972.94786971\n",
      "\tacc: 0.882673267327\n",
      "\tauc: 0.951191264349\n",
      "\tap@k: 0.972631214053\n",
      "Val:\n",
      "\tloss: 23025.287679\n",
      "\tacc: 0.863861386139\n",
      "\tauc: 0.9130319277\n",
      "\tap@k: 0.723944539812\n",
      "Epoch №  42\n",
      "Train:\n",
      "\tloss: 1286.73689342\n",
      "\tacc: 0.883564356436\n",
      "\tauc: 0.949232235294\n",
      "\tap@k: 0.921591974243\n",
      "Val:\n",
      "\tloss: 6531.12324609\n",
      "\tacc: 0.884851485149\n",
      "\tauc: 0.924590219282\n",
      "\tap@k: 0.744583433382\n",
      "Epoch №  43\n",
      "Train:\n",
      "\tloss: 2485.83491986\n",
      "\tacc: 0.880891089109\n",
      "\tauc: 0.949838400132\n",
      "\tap@k: 0.922986207264\n",
      "Val:\n",
      "\tloss: 4915.05315955\n",
      "\tacc: 0.891584158416\n",
      "\tauc: 0.932965427245\n",
      "\tap@k: 0.836767181739\n",
      "Epoch №  44\n",
      "Train:\n",
      "\tloss: 1370.27398942\n",
      "\tacc: 0.886138613861\n",
      "\tauc: 0.950907372475\n",
      "\tap@k: 0.956578625506\n",
      "Val:\n",
      "\tloss: 3055.45647344\n",
      "\tacc: 0.865445544554\n",
      "\tauc: 0.926191391056\n",
      "\tap@k: 0.969072233009\n",
      "Epoch №  45\n",
      "Train:\n",
      "\tloss: 779.380287323\n",
      "\tacc: 0.880891089109\n",
      "\tauc: 0.951285944717\n",
      "\tap@k: 0.958886302686\n",
      "Val:\n",
      "\tloss: 5433.25692853\n",
      "\tacc: 0.868415841584\n",
      "\tauc: 0.922580990353\n",
      "\tap@k: 0.996788901353\n",
      "Epoch №  46\n",
      "Train:\n",
      "\tloss: 448.936468352\n",
      "\tacc: 0.864653465347\n",
      "\tauc: 0.942984817179\n",
      "\tap@k: 0.992701017598\n",
      "Val:\n",
      "\tloss: 8238.80914953\n",
      "\tacc: 0.883168316832\n",
      "\tauc: 0.937747941182\n",
      "\tap@k: 0.950111195671\n",
      "Epoch №  47\n",
      "Train:\n",
      "\tloss: 390.902643374\n",
      "\tacc: 0.867821782178\n",
      "\tauc: 0.943820516389\n",
      "\tap@k: 0.967949022105\n",
      "Val:\n",
      "\tloss: 5526.0984087\n",
      "\tacc: 0.890198019802\n",
      "\tauc: 0.939591120315\n",
      "\tap@k: 0.90066103587\n",
      "Epoch №  48\n",
      "Train:\n",
      "\tloss: 2065.02731513\n",
      "\tacc: 0.847326732673\n",
      "\tauc: 0.930805177655\n",
      "\tap@k: 0.967337919071\n",
      "Val:\n",
      "\tloss: 3449.61485319\n",
      "\tacc: 0.863168316832\n",
      "\tauc: 0.916647060438\n",
      "\tap@k: 0.979947318385\n",
      "Epoch №  49\n",
      "Train:\n",
      "\tloss: 2551.55721807\n",
      "\tacc: 0.866237623762\n",
      "\tauc: 0.937242089112\n",
      "\tap@k: 0.901042852709\n",
      "Val:\n",
      "\tloss: 8350.9802625\n",
      "\tacc: 0.84603960396\n",
      "\tauc: 0.896099745098\n",
      "\tap@k: 0.713150538625\n"
     ]
    }
   ],
   "source": [
    "from sklearn.metrics import roc_auc_score, accuracy_score\n",
    "\n",
    "n_epochs = 50\n",
    "batch_size = 100\n",
    "minibatches_per_epoch = 100\n",
    "\n",
    "for i in range(n_epochs):\n",
    "    print \"Epoch № \", i\n",
    "    #training\n",
    "    epoch_y_true = []\n",
    "    epoch_y_pred = []\n",
    "    \n",
    "    b_c = b_loss = 0\n",
    "    for j, (b_desc,b_title,b_cat, b_y) in enumerate(\n",
    "        iterate_minibatches(desc_tr,title_tr,nontext_tr,target_tr,batchsize=batch_size,shuffle=True)):\n",
    "        if j > minibatches_per_epoch:break\n",
    "            \n",
    "        loss,pred_probas = train_fun(b_desc,b_title,b_cat,b_y)\n",
    "        \n",
    "        b_loss += loss\n",
    "        b_c +=1\n",
    "        \n",
    "        epoch_y_true.append(b_y)\n",
    "        epoch_y_pred.append(pred_probas)\n",
    "    \n",
    "    epoch_y_true = np.concatenate(epoch_y_true)\n",
    "    epoch_y_pred = np.concatenate(epoch_y_pred)\n",
    "    \n",
    "    print \"Train:\"\n",
    "    print '\\tloss:',b_loss/b_c\n",
    "    print '\\tacc:',accuracy_score(epoch_y_true,epoch_y_pred>0.)\n",
    "    print '\\tauc:',roc_auc_score(epoch_y_true,epoch_y_pred)\n",
    "    print '\\tap@k:',APatK(epoch_y_true,epoch_y_pred,K = int(len(epoch_y_pred)*0.025)+1)\n",
    "    \n",
    "    #evaluation\n",
    "    epoch_y_true = []\n",
    "    epoch_y_pred = []\n",
    "    b_c = b_loss = 0\n",
    "    for j, (b_desc,b_title,b_cat, b_y) in enumerate(\n",
    "        iterate_minibatches(desc_ts,title_ts,nontext_tr,target_ts,batchsize=batch_size,shuffle=True)):\n",
    "        if j > minibatches_per_epoch: break\n",
    "        loss,pred_probas = eval_fun(b_desc,b_title,b_cat,b_y)\n",
    "        \n",
    "        b_loss += loss\n",
    "        b_c +=1\n",
    "        \n",
    "        epoch_y_true.append(b_y)\n",
    "        epoch_y_pred.append(pred_probas)\n",
    "\n",
    "    epoch_y_true = np.concatenate(epoch_y_true)\n",
    "    epoch_y_pred = np.concatenate(epoch_y_pred)\n",
    "    \n",
    "    print \"Val:\"\n",
    "    print '\\tloss:',b_loss/b_c\n",
    "    print '\\tacc:',accuracy_score(epoch_y_true,epoch_y_pred>0.)\n",
    "    print '\\tauc:',roc_auc_score(epoch_y_true,epoch_y_pred)\n",
    "    print '\\tap@k:',APatK(epoch_y_true,epoch_y_pred,K = int(len(epoch_y_pred)*0.025)+1)"
   ]
  },
  {
   "cell_type": "code",
   "execution_count": 20,
   "metadata": {
    "collapsed": false
   },
   "outputs": [
    {
     "name": "stdout",
     "output_type": "stream",
     "text": [
      "If you are seeing this, it's time to backup your notebook. No, really, 'tis too easy to mess up everything without noticing. \n"
     ]
    }
   ],
   "source": [
    "print \"If you are seeing this, it's time to backup your notebook. No, really, 'tis too easy to mess up everything without noticing. \""
   ]
  },
  {
   "cell_type": "code",
   "execution_count": 22,
   "metadata": {
    "collapsed": true
   },
   "outputs": [],
   "source": [
    "with open(\"nn.pcl\",'w') as fout:\n",
    "    pickle.dump(nn,fout)"
   ]
  },
  {
   "cell_type": "code",
   "execution_count": 25,
   "metadata": {
    "collapsed": true
   },
   "outputs": [],
   "source": [
    "with open(\"nn.pcl\",'r') as fin:\n",
    "        token_to_id = pickle.load(fin)"
   ]
  },
  {
   "cell_type": "markdown",
   "metadata": {},
   "source": [
    "# Final evaluation\n",
    "Evaluate network over the entire test set"
   ]
  },
  {
   "cell_type": "code",
   "execution_count": 26,
   "metadata": {
    "collapsed": false
   },
   "outputs": [
    {
     "name": "stdout",
     "output_type": "stream",
     "text": [
      "Scores:\n",
      "\tloss: 16892.878466\n",
      "\tacc: 0.845821389195\n",
      "\tauc: 0.892595879439\n",
      "\tap@k: 0.707265652783\n",
      "\n",
      "AUC:\n",
      "\tТы на правильном пути! (not ok)\n",
      "\n",
      "Accuracy:\n",
      "Надо бы подтянуть. (not ok)\n",
      "\n",
      "Average precision at K:\n",
      "\tНадо бы поднажать (not ok)\n"
     ]
    }
   ],
   "source": [
    "#evaluation\n",
    "epoch_y_true = []\n",
    "epoch_y_pred = []\n",
    "\n",
    "b_c = b_loss = 0\n",
    "for j, (b_desc,b_title,b_cat, b_y) in enumerate(\n",
    "    iterate_minibatches(desc_ts,title_ts,nontext_tr,target_ts,batchsize=batch_size,shuffle=True)):\n",
    "    loss,pred_probas = eval_fun(b_desc,b_title,b_cat,b_y)\n",
    "\n",
    "    b_loss += loss\n",
    "    b_c +=1\n",
    "\n",
    "    epoch_y_true.append(b_y)\n",
    "    epoch_y_pred.append(pred_probas)\n",
    "\n",
    "\n",
    "epoch_y_true = np.concatenate(epoch_y_true)\n",
    "epoch_y_pred = np.concatenate(epoch_y_pred)\n",
    "\n",
    "final_accuracy = accuracy_score(epoch_y_true,epoch_y_pred>0)\n",
    "final_auc = roc_auc_score(epoch_y_true,epoch_y_pred)\n",
    "final_apatk = APatK(epoch_y_true,epoch_y_pred,K = int(len(epoch_y_pred)*0.025)+1)\n",
    "\n",
    "print \"Scores:\"\n",
    "print '\\tloss:',b_loss/b_c\n",
    "print '\\tacc:',final_accuracy\n",
    "print '\\tauc:',final_auc\n",
    "print '\\tap@k:',final_apatk\n",
    "score(final_accuracy,final_auc,final_apatk)"
   ]
  },
  {
   "cell_type": "markdown",
   "metadata": {},
   "source": [
    "# Main task\n",
    "\n",
    "* https://goo.gl/forms/eJwIeAbjxzVuo6vn1\n",
    "* Feel like Le'Cun:\n",
    " * accuracy > 0.95\n",
    " * AUC > 0.97\n",
    " * Average Precision at (test sample size * 0.025) > 0.99\n",
    " * And perhaps even farther\n",
    "\n",
    "* Casual mode\n",
    " * accuracy > 0.90\n",
    " * AUC > 0.95\n",
    " * Average Precision at (test sample size * 0.025) > 0.92\n",
    "\n",
    "* Remember the training, Luke\n",
    " * Dropout, regularization\n",
    " * Mommentum, RMSprop, ada*\n",
    " * etc etc etc\n",
    " \n",
    " * If you have background in texts, there may be a way to improve tokenizer, add some lemmatization, etc etc.\n",
    " * In case you know how not to shoot yourself in the foot with RNNs, they too may be of some use."
   ]
  },
  {
   "cell_type": "code",
   "execution_count": null,
   "metadata": {
    "collapsed": true
   },
   "outputs": [],
   "source": []
  }
 ],
 "metadata": {
  "anaconda-cloud": {},
  "kernelspec": {
   "display_name": "Python [default]",
   "language": "python",
   "name": "python2"
  },
  "language_info": {
   "codemirror_mode": {
    "name": "ipython",
    "version": 2
   },
   "file_extension": ".py",
   "mimetype": "text/x-python",
   "name": "python",
   "nbconvert_exporter": "python",
   "pygments_lexer": "ipython2",
   "version": "2.7.12"
  }
 },
 "nbformat": 4,
 "nbformat_minor": 0
}
